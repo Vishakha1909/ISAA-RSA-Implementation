{
 "cells": [
  {
   "cell_type": "markdown",
   "id": "b56ce2d7",
   "metadata": {},
   "source": [
    "# RSA implementation"
   ]
  },
  {
   "cell_type": "code",
   "execution_count": 2,
   "id": "91a2b48b",
   "metadata": {},
   "outputs": [],
   "source": [
    "from math import sqrt\n",
    "import random\n",
    "from random import randint as rand\n",
    "import time"
   ]
  },
  {
   "cell_type": "code",
   "execution_count": 3,
   "id": "430ebb4e",
   "metadata": {},
   "outputs": [],
   "source": [
    "#function to calculate the greatest common divisor\n",
    "def gcd(a, b):\n",
    "    if b == 0:\n",
    "        return a\n",
    "    else:\n",
    "        return gcd(b, a % b)"
   ]
  },
  {
   "cell_type": "code",
   "execution_count": 4,
   "id": "0765b047",
   "metadata": {},
   "outputs": [],
   "source": [
    "#function to calculate the mod\n",
    "def mod_inverse(a, m):\n",
    "    for x in range(1, m):\n",
    "        if (a * x) % m == 1:\n",
    "            return x\n",
    "    return -1"
   ]
  },
  {
   "cell_type": "code",
   "execution_count": 5,
   "id": "00ccf48a",
   "metadata": {},
   "outputs": [],
   "source": [
    "#function to check if its a prime number\n",
    "def isprime(n):\n",
    "    if n < 2:\n",
    "        return False\n",
    "    elif n == 2:\n",
    "        return True\n",
    "    else:\n",
    "        for i in range(2, int(sqrt(n)) + 1, 2):\n",
    "            if n % i == 0:\n",
    "                return False\n",
    "    return True"
   ]
  },
  {
   "cell_type": "code",
   "execution_count": 6,
   "id": "68c2a174",
   "metadata": {},
   "outputs": [],
   "source": [
    "#function to calculate the public and private key\n",
    "def generate_keypair(p, q, keysize):\n",
    "    nMin = 1 << (keysize - 1)\n",
    "    nMax = (1 << keysize) - 1\n",
    "    primes = [2]\n",
    "\n",
    "    start = 1 << (keysize // 2 - 1)\n",
    "    stop = 1 << (keysize // 2 + 1)\n",
    "\n",
    "    if start >= stop:\n",
    "        return []\n",
    "\n",
    "    for i in range(3, stop + 1, 2):\n",
    "        for p in primes:\n",
    "            if i % p == 0:\n",
    "                break\n",
    "        else:\n",
    "            primes.append(i)\n",
    "    while (primes and primes[0] < start):\n",
    "        del primes[0]\n",
    "        \n",
    "    while primes:\n",
    "        p = random.choice(primes)\n",
    "        primes.remove(p)\n",
    "        q_values = [q for q in primes if nMin <= p * q <= nMax]\n",
    "        if q_values:\n",
    "            q = random.choice(q_values)\n",
    "            break\n",
    "    print(p, q)\n",
    "    n = p * q\n",
    "    phi = (p - 1) * (q - 1)\n",
    "    e = random.randrange(1, phi)\n",
    "    g = gcd(e, phi)\n",
    "\n",
    "    while True:\n",
    "        e = random.randrange(1, phi)\n",
    "        g = gcd(e, phi)\n",
    "        d = mod_inverse(e, phi)\n",
    "        if g == 1 and e != d:\n",
    "            break\n",
    "    return ((e, n), (d, n))"
   ]
  },
  {
   "cell_type": "code",
   "execution_count": 7,
   "id": "34116872",
   "metadata": {},
   "outputs": [],
   "source": [
    "#function to print present time\n",
    "from datetime import datetime\n",
    "\n",
    "def print_time():\n",
    "    now = datetime.now()\n",
    "    dt_string = now.strftime(\"%d/%m/%Y %H:%M:%S\")\n",
    "    print(\"Time now: \", dt_string)"
   ]
  },
  {
   "cell_type": "markdown",
   "id": "9e8e1437",
   "metadata": {},
   "source": [
    "### Encryption"
   ]
  },
  {
   "cell_type": "code",
   "execution_count": 8,
   "id": "798b7777",
   "metadata": {},
   "outputs": [],
   "source": [
    "#function to encrypt the text\n",
    "def encrypt(msg_plaintext, package):\n",
    "    e, n = package\n",
    "    msg_ciphertext = [pow(ord(c), e, n) for c in msg_plaintext]\n",
    "    return msg_ciphertext"
   ]
  },
  {
   "cell_type": "markdown",
   "id": "fbe22b5d",
   "metadata": {},
   "source": [
    "### Decryption"
   ]
  },
  {
   "cell_type": "code",
   "execution_count": 9,
   "id": "0d62c756",
   "metadata": {},
   "outputs": [],
   "source": [
    "#function to decrypt the data\n",
    "def decrypt(msg_ciphertext, package):\n",
    "    d, n = package\n",
    "    msg_plaintext = [chr(pow(c, d, n)) for c in msg_ciphertext]\n",
    "    return (''.join(msg_plaintext))"
   ]
  },
  {
   "cell_type": "markdown",
   "id": "e3dceb61",
   "metadata": {},
   "source": [
    "### Input"
   ]
  },
  {
   "cell_type": "code",
   "execution_count": 28,
   "id": "284ba11d",
   "metadata": {},
   "outputs": [
    {
     "name": "stdout",
     "output_type": "stream",
     "text": [
      "Enter bit_length: 4\n",
      "439 139\n",
      "Public Key:  (25685, 61021)\n",
      "Private Key:  (5309, 61021)\n",
      "\n",
      "\n",
      "Time now:  28/09/2021 22:58:39\n",
      "Write text to be encrypted: He watched as the young man tried to impress everyone in the room with his intelligence. There was no doubt that he was smart. The fact that he was more intelligent than anyone else in the room could have been easily deduced, but nobody was really paying any attention due to the fact that it was also obvious that the young man only cared about his intelligence.\n",
      "Encrypted text:  29077461283079118679852258193504706079346128323273079185221711230791581936079346128307916052554560083334623786307913745285223346230791581934134117647461283232730791581932554530791176473745289764134146128171121711230791461286051246128413416052554533462461283079117647334623079158193607934612830791413412554525545374523079118679176475819360793307916079317647171123079117647334625819346128428974289717647378646128334625047046128222783079122316607934612841341461283079118679852217112307913346225545307913232725545600835756558193307915819360793852258193307916079346128307911867985221711230791171123745285224134158193222783079122316607934612830791602608522504705819330791581936079385225819330791607934612830791186798522171123079137452255454134146128307911764733462581934612842897428971764737864612833462581933079158193607938522334623079185223346260525545334624612830791461284289717112461283079117647334623079158193607934612830791413412554525545374523079150470255456008342897323273079160793852260512461283079157565461284612833462307914612885221711217647428976053079132327461283232760083504704612832327443773079157565600835819330791334622554557565255453232760530791186798522171123079141341461288522428974289760530791897685226051764733462378630791852233462605307918522581935819346128334625819317647255453346230791323276008346128307915819325545307915819360793461283079160260852250470581933079158193607938522581933079117647581933079118679852217112307918522428971711225545307912554557565605121764725545600831711230791581936079385225819330791581936079346128307916052554560083334623786307913745285223346230791255453346242897605307915047085224134146128323273079185225756525545600835819330791607931764717112307911764733462581934612842897428971764737864612833462504704612822278\n",
      "Decrypted text:  He watched as the young man tried to impress everyone in the room with his intelligence. There was no doubt that he was smart. The fact that he was more intelligent than anyone else in the room could have been easily deduced, but nobody was really paying any attention due to the fact that it was also obvious that the young man only cared about his intelligence.\n"
     ]
    }
   ],
   "source": [
    "#generating random numbers, later to be checked if prime\n",
    "p = rand(1, 1000)\n",
    "q = rand(1, 1000)\n",
    "\n",
    "bit_length = int(input(\"Enter bit_length: \"))\n",
    "public, private = generate_keypair(p, q, 2**bit_length)  # 8 is the keysize (bit-length) value.\n",
    "print(\"Public Key: \", public)\n",
    "print(\"Private Key: \", private)\n",
    "print(\"\\n\")\n",
    "print_time()\n",
    "\n",
    "msg = input(\"Write text to be encrypted: \")\n",
    "\n",
    "encrypted_msg = encrypt(msg, public)\n",
    "print(\"Encrypted text: \",''.join(map(lambda x: str(x), encrypted_msg)))\n",
    "\n",
    "decrypted_msg = decrypt(encrypted_msg, private)\n",
    "print(\"Decrypted text: \",decrypted_msg)"
   ]
  },
  {
   "cell_type": "code",
   "execution_count": 29,
   "id": "204f7047",
   "metadata": {},
   "outputs": [
    {
     "name": "stdout",
     "output_type": "stream",
     "text": [
      "Response time for encryption is: \n",
      "431 µs ± 9.62 µs per loop (mean ± std. dev. of 7 runs, 1000 loops each)\n"
     ]
    }
   ],
   "source": [
    "print(\"Response time for encryption is: \")\n",
    "%timeit encrypt(msg, public)"
   ]
  },
  {
   "cell_type": "code",
   "execution_count": 30,
   "id": "7d2db784",
   "metadata": {},
   "outputs": [
    {
     "name": "stdout",
     "output_type": "stream",
     "text": [
      "Response time for decryption is: \n",
      "471 µs ± 8.88 µs per loop (mean ± std. dev. of 7 runs, 1000 loops each)\n"
     ]
    }
   ],
   "source": [
    "print(\"Response time for decryption is: \")\n",
    "%timeit decrypt(encrypted_msg, private)"
   ]
  },
  {
   "cell_type": "code",
   "execution_count": null,
   "id": "c90e5c3f",
   "metadata": {},
   "outputs": [],
   "source": []
  }
 ],
 "metadata": {
  "kernelspec": {
   "display_name": "Python 3",
   "language": "python",
   "name": "python3"
  },
  "language_info": {
   "codemirror_mode": {
    "name": "ipython",
    "version": 3
   },
   "file_extension": ".py",
   "mimetype": "text/x-python",
   "name": "python",
   "nbconvert_exporter": "python",
   "pygments_lexer": "ipython3",
   "version": "3.9.5"
  }
 },
 "nbformat": 4,
 "nbformat_minor": 5
}
